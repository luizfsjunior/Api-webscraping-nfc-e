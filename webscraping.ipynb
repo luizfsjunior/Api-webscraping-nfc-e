{
  "nbformat": 4,
  "nbformat_minor": 0,
  "metadata": {
    "colab": {
      "provenance": [],
      "collapsed_sections": []
    },
    "kernelspec": {
      "name": "python3",
      "display_name": "Python 3"
    },
    "language_info": {
      "name": "python"
    }
  },
  "cells": [
    {
      "cell_type": "code",
      "source": [
        "import requests #Library standard making HTTP requests in Python\n",
        "from bs4 import BeautifulSoup #library for colect data in site (webscrap)\n",
        "from lxml import html\n"
      ],
      "metadata": {
        "id": "7fASxXjVnGNq"
      },
      "execution_count": null,
      "outputs": []
    },
    {
      "cell_type": "code",
      "execution_count": null,
      "metadata": {
        "id": "Eduzo7Adm8XT",
        "colab": {
          "base_uri": "https://localhost:8080/"
        },
        "outputId": "a03e0c72-a27b-4ecd-bc1e-d7aa2b01dac6"
      },
      "outputs": [
        {
          "output_type": "stream",
          "name": "stderr",
          "text": [
            "/usr/local/lib/python3.7/dist-packages/urllib3/connectionpool.py:847: InsecureRequestWarning: Unverified HTTPS request is being made. Adding certificate verification is strongly advised. See: https://urllib3.readthedocs.io/en/latest/advanced-usage.html#ssl-warnings\n",
            "  InsecureRequestWarning)\n"
          ]
        }
      ],
      "source": [
        "from pickle import FALSE\n",
        "url = ('https://nfce.fazenda.mg.gov.br/portalnfce/sistema/qrcode.xhtml?p=31220921414958002061650020002717541635629030|2|1|1|F65F4D3FFF05CA40C32C8936DCD8407F9414D361')\n",
        "\n",
        "page = requests.get(url, verify = False).content\n",
        "tree = html.fromstring(page)\n",
        "dados = BeautifulSoup(page, 'html.parser') #content for html "
      ]
    },
    {
      "cell_type": "code",
      "source": [
        "super_merc = dados.select(\"#formPrincipal\\:content-template-consulta > div.container > table.table.text-center > thead > tr:nth-of-type(2) > th > h4 > b\")\n",
        "mercado = ([r.text.strip() for r in super_merc])\n",
        "nome_mercado = \" \".join(str(v) for v in mercado)\n"
      ],
      "metadata": {
        "colab": {
          "base_uri": "https://localhost:8080/"
        },
        "id": "u6RJjEqxAmat",
        "outputId": "0f74e046-fa8f-4cec-c10e-36e0cad2bfc5"
      },
      "execution_count": null,
      "outputs": [
        {
          "output_type": "stream",
          "name": "stdout",
          "text": [
            "MAGLIONI RIBEIRO & CIA LTDA ( PRINCESA)\n"
          ]
        }
      ]
    },
    {
      "cell_type": "code",
      "source": [
        "count = 1\n",
        "results = []\n",
        "val_final =[]\n",
        "type(results)\n",
        "while True:\n",
        " \n",
        "  valor = dados.select(\"#myTable > tr:nth-of-type(\"+ str(count) +\") > td:nth-of-type(4)\")\n",
        "  results.append([r.text.split(' ')[4].strip() for r in valor])\n",
        "  print(results[count - 1])\n",
        "  res_valor = results[count - 1]\n",
        "  val_prod = \" \".join(str(v) for v in res_valor)\n",
        "  val_prod = val_prod.replace(\"]\", \"\")\n",
        "  val_prod = val_prod.replace(\"[\", \"\")\n",
        "  val_prod = val_prod.replace(\",\", \".\")\n",
        "  val_final.append(val_prod)\n",
        "\n",
        "  if results[count - 1] == []:\n",
        "    val_final.pop(count - 1)\n",
        "    break\n",
        "  \n",
        "  count = count + 1\n",
        "\n"
      ],
      "metadata": {
        "id": "sOrGjMrBuAG5",
        "colab": {
          "base_uri": "https://localhost:8080/"
        },
        "outputId": "b614c2e0-3809-4349-cbd1-32002cb4cc3e"
      },
      "execution_count": null,
      "outputs": [
        {
          "output_type": "stream",
          "name": "stdout",
          "text": [
            "['2,40']\n",
            "['3,69']\n",
            "['2,99']\n",
            "['2,29']\n",
            "['2,29']\n",
            "['2,29']\n",
            "['2,29']\n",
            "['9,99']\n",
            "[]\n"
          ]
        }
      ]
    },
    {
      "cell_type": "code",
      "source": [
        "codigo = []\n",
        "cod_final = []\n",
        "count2 = 1\n",
        "while True:\n",
        "\n",
        "  cod = tree.xpath('//*[@id=\"myTable\"]/tr['+ str(count2)+']/td[1]/text()')\n",
        "  codigo.append(i.split(\" \")[1].strip() for i in cod) \n",
        "  res_codigo = codigo[count2 - 1]\n",
        "  cod_prod = \" \".join(str(v) for v in res_codigo)\n",
        "  cod_prod = cod_prod.replace(\",\", \"\")\n",
        "  cod_prod = cod_prod.replace(\")\", \"\")\n",
        "  cod_prod = cod_prod.replace(\" \", \"\")\n",
        "  cod_prod = cod_prod.replace(\"'\", \"\")\n",
        "  cod_final.append(cod_prod)\n",
        "  \n",
        "\n",
        "  if cod_final[count2 - 1] == '':\n",
        "    cod_final.pop(count2 - 1)\n",
        "    break\n",
        "  count2 = count2 + 1\n"
      ],
      "metadata": {
        "id": "lznYfw1i1WNS"
      },
      "execution_count": null,
      "outputs": []
    },
    {
      "cell_type": "code",
      "source": [
        "resultado = []\n",
        "nome_final = []\n",
        "\n",
        "count2 = 1\n",
        "while True: \n",
        "  nomes = dados.select(\"#myTable > tr:nth-of-type(\"+ str(count2) +\") > td:nth-of-type(1)\")\n",
        "  resultado.append([i.text.split(\" \")[0:3] for i in nomes ])\n",
        "  res = resultado[count2 - 1]\n",
        "  nome_prod = \" \".join(str(v) for v in res)\n",
        "  nome_prod = nome_prod.replace(\",\", \"\")\n",
        "  nome_prod = nome_prod.replace(\"]\", \"\")\n",
        "  nome_prod = nome_prod.replace(\"[\", \"\")\n",
        "  nome_prod = nome_prod.replace(\"'\", \"\")\n",
        "  nome_final.append(nome_prod)\n",
        "\n",
        "  if resultado[count2 - 1] == []:\n",
        "    nome_final.pop(count2 - 1)\n",
        "    break\n",
        "  count2 = count2 + 1\n",
        "\n"
      ],
      "metadata": {
        "id": "rRx5-M3DBw74"
      },
      "execution_count": null,
      "outputs": []
    },
    {
      "cell_type": "code",
      "source": [
        "count3 = 1\n",
        "results_un = []\n",
        "un_final =[]\n",
        "while True:\n",
        " \n",
        "  un = dados.select(\"#myTable > tr:nth-of-type(\"+ str(count3) +\") > td:nth-of-type(3)\")\n",
        "  results_un.append([r.text.split(' ')[1].strip() for r in un])\n",
        "  res_un = results_un[count3 - 1]\n",
        "  un_prod = \" \".join(str(v) for v in res_un)\n",
        "  un_final.append(un_prod)\n",
        "\n",
        "  if results_un[count3 - 1] == []:\n",
        "    un_final.pop(count3 - 1)\n",
        "    print(un_final[0])\n",
        "    break\n",
        "  \n",
        "  count3 = count3 + 1\n"
      ],
      "metadata": {
        "colab": {
          "base_uri": "https://localhost:8080/"
        },
        "id": "hiofrHE-p8tb",
        "outputId": "01199019-476f-4574-fd37-33f1953d1c70"
      },
      "execution_count": null,
      "outputs": [
        {
          "output_type": "stream",
          "name": "stdout",
          "text": [
            "KG\n"
          ]
        }
      ]
    },
    {
      "cell_type": "code",
      "source": [
        "count4 = 1\n",
        "results_qtd = []\n",
        "qtd_final =[]\n",
        "while True:\n",
        " \n",
        "  qtd = dados.select(\"#myTable > tr:nth-of-type(\"+ str(count4) +\") > td:nth-of-type(2)\")\n",
        "  results_qtd.append([r.text.split(' ')[4].strip() for r in qtd])\n",
        "  res_qtd = results_qtd[count4 - 1]\n",
        "  qtd_prod = \" \".join(str(v) for v in res_qtd)\n",
        "  qtd_final.append(qtd_prod)\n",
        "\n",
        "  if results_qtd[count4 - 1] == []:\n",
        "    qtd_final.pop(count4 - 1)\n",
        "    print(qtd_final)\n",
        "    break\n",
        "  \n",
        "  count4 = count4 + 1\n"
      ],
      "metadata": {
        "colab": {
          "base_uri": "https://localhost:8080/"
        },
        "id": "LjQ2FUU3qQ-j",
        "outputId": "86cdf0b7-69fc-432b-fc47-e9b86deefa9a"
      },
      "execution_count": null,
      "outputs": [
        {
          "output_type": "stream",
          "name": "stdout",
          "text": [
            "['0.2000', '1.0000', '1.0000', '1.0000', '1.0000', '1.0000', '1.0000', '1.0000']\n"
          ]
        }
      ]
    },
    {
      "cell_type": "code",
      "source": [
        "count_calc = 0\n",
        "result_calc = 0\n",
        "\n",
        "while (count_calc + 1) <= len(qtd_final):\n",
        "  if un_final[count_calc] == \"KG\":\n",
        "    result_calc = float(val_final[count_calc]) / float(qtd_final[count_calc])\n",
        "    result_calc = round(result_calc, 2)\n",
        "    val_final[count_calc] = str(result_calc)\n",
        "    print(val_final)\n",
        "  count_calc = count_calc + 1"
      ],
      "metadata": {
        "colab": {
          "base_uri": "https://localhost:8080/"
        },
        "id": "zkirG2KFte0z",
        "outputId": "44a588d2-7ca0-4db1-ae2e-5d281fc9bfa8"
      },
      "execution_count": null,
      "outputs": [
        {
          "output_type": "stream",
          "name": "stdout",
          "text": [
            "['12.0', '3.69', '2.99', '2.29', '2.29', '2.29', '2.29', '9.99']\n"
          ]
        }
      ]
    },
    {
      "cell_type": "code",
      "source": [
        "print(\"Nome do mercado: \" + nome_mercado + \"\\n\")\n",
        "print(\"Nome produto: \" + str(nome_final) + \"\\n\")\n",
        "print(\"Codigo de barras: \" + str(cod_final) + \"\\n\")\n",
        "print(\"Unidade do produto: \" + str (un_final) + \"\\n\")\n",
        "print(\"Valores total: \" + str(val_final) + \"\\n\")"
      ],
      "metadata": {
        "colab": {
          "base_uri": "https://localhost:8080/"
        },
        "id": "mYT2ofy2WJ6R",
        "outputId": "2ed571a0-2046-4f19-d077-454ad813eeab"
      },
      "execution_count": null,
      "outputs": [
        {
          "output_type": "stream",
          "name": "stdout",
          "text": [
            "Nome do mercado: MAGLIONI RIBEIRO & CIA LTDA ( PRINCESA)\n",
            "\n",
            "Nome produto: ['PAO FRANCES ALVORADA', 'ESC. DENTAL ORAL', 'FITA DENTAL PREDENT', 'CR. DENTAL DENTIL', 'CE. DENTAL DENTIL', 'CR. DENTAL DENTIL', 'CE. DENTAL DENTIL', 'ROSCA RAINHA C/CREME']\n",
            "\n",
            "Codigo de barras: ['3775', '225213', '131657', '256410', '249502', '256410', '249502', '4350']\n",
            "\n",
            "Unidade do produto: ['KG', 'UN', 'UN', 'UN', 'UN', 'UN', 'UN', 'UN']\n",
            "\n",
            "Valores total: ['12.0', '3.69', '2.99', '2.29', '2.29', '2.29', '2.29', '9.99']\n",
            "\n"
          ]
        }
      ]
    },
    {
      "cell_type": "markdown",
      "source": [
        "![imagem_2022-09-27_142125194.png](data:image/png;base64,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)"
      ],
      "metadata": {
        "id": "jije7sxS97AJ"
      }
    }
  ]
}